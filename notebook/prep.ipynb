{
 "cells": [
  {
   "cell_type": "code",
   "execution_count": 1,
   "metadata": {
    "collapsed": true
   },
   "outputs": [],
   "source": [
    "import os\n",
    "import csv\n",
    "import pandas as pd\n",
    "import numpy as np \n",
    "import lightgbm as lgb \n",
    "import gc \n",
    "from sklearn.model_selection import train_test_split, cross_val_score\n",
    "\n",
    "if os.path.exists(\"./data/PINGAN-2018-train_demo.csv\"):\n",
    "    path_train = \"./data/PINGAN-2018-train_demo.csv\"\n",
    "    PREDICT = False \n",
    "else:\n",
    "    PREDICT = True \n",
    "    path_train = \"/data/dm/train.csv\"  # 训练文件\n",
    "    path_test = \"/data/dm/test.csv\"  # 测试文件\n",
    "    path_test_out = \"model/\"  # 预测结果输出路径为model/xx.csv,有且只能有一个文件并且是CSV格式。\n",
    "\n",
    "\n",
    "def read_csv():\n",
    "    \"\"\"\n",
    "    文件读取模块，头文件见columns.\n",
    "    :return: \n",
    "    \"\"\"\n",
    "    # for filename in os.listdir(path_train):\n",
    "    train = pd.read_csv(path_train)\n",
    "    test = pd.DataFrame()\n",
    "    if PREDICT:\n",
    "        test = pd.read_csv(path_test)\n",
    "    tempdata = pd.concat([train, test], 0)\n",
    "    nrow_train = train.shape[0]\n",
    "    tempdata.columns = [\"TERMINALNO\", \"TIME\", \"TRIP_ID\", \"LONGITUDE\", \"LATITUDE\", \"DIRECTION\", \"HEIGHT\", \n",
    "                        \"SPEED\", \"CALLSTATE\", \"Y\"]\n",
    "    return tempdata, nrow_train"
   ]
  },
  {
   "cell_type": "code",
   "execution_count": 2,
   "metadata": {
    "collapsed": true
   },
   "outputs": [
    {
     "name": "stdout",
     "output_type": "stream",
     "text": [
      "   TERMINALNO        TIME  TRIP_ID   LONGITUDE   LATITUDE  DIRECTION  \\\n0           1  1476923580        1  122.985168  41.103741         12   \n1           1  1476923640        1  122.984398  41.104904         24   \n2           1  1476923700        1  122.986496  41.106388         74   \n3           1  1476923760        1  122.989769  41.106884        115   \n4           1  1476923820        1  122.991089  41.105442        151   \n\n      HEIGHT  SPEED  CALLSTATE    Y  \n0  39.402588   2.15          0  0.0  \n1  39.311157   4.11          0  0.0  \n2  34.178955   2.99          0  0.0  \n3  37.765381   7.59          0  0.0  \n4  36.049194   0.24          0  0.0  \n       TERMINALNO        TIME  TRIP_ID   LONGITUDE   LATITUDE  DIRECTION  \\\n69301         100  1476939540       85  120.333733  36.103889         29   \n69302         100  1476939480       85  120.333778  36.103771        353   \n69303         100  1476939420       85  120.334412  36.103283        317   \n69304         100  1476939360       85  120.340179  36.099434        294   \n69305         100  1476939300       85  120.348099  36.099365        223   \n\n         HEIGHT  SPEED  CALLSTATE    Y  \n69301  4.864410   0.00          4  0.0  \n69302  7.133728   0.00          4  0.0  \n69303  7.199524   2.55          4  0.0  \n69304  7.396851  11.67          4  0.0  \n69305  7.061462   9.83          4  0.0  \n69306\n"
     ]
    }
   ],
   "source": [
    "train ,nrow_train = read_csv()\n",
    "print(train.head())\n",
    "print(train.tail())\n",
    "print(nrow_train)"
   ]
  },
  {
   "cell_type": "markdown",
   "metadata": {},
   "source": [
    "## 速度处理"
   ]
  },
  {
   "cell_type": "code",
   "execution_count": 3,
   "metadata": {},
   "outputs": [
    {
     "name": "stdout",
     "output_type": "stream",
     "text": [
      "TERMINALNO\n1     32.779999\n2     36.119999\n3     25.440001\n4     33.310001\n5     53.480000\n6     29.570000\n7     35.680000\n8     42.720001\n9     35.680000\n10    32.330002\nName: SPEED, dtype: float64\nTERMINALNO\n1    -1.0\n2     0.0\n3     0.0\n4    -1.0\n5    -1.0\n6    -1.0\n7     0.0\n8    -1.0\n9     0.0\n10    0.0\nName: SPEED, dtype: float64\nTERMINALNO\n1     17.489840\n2      9.287734\n3      7.987331\n4      6.312753\n5      7.695846\n6     11.456653\n7      5.705086\n8      9.100117\n9     16.274006\n10     7.297735\nName: SPEED, dtype: float64\nTERMINALNO\n1     0.00000\n2     0.00000\n3     0.00000\n4     0.00000\n5     0.00000\n6     0.00000\n7     0.00000\n8     2.36856\n9     0.00000\n10    0.00000\nName: Y, dtype: float64\n"
     ]
    }
   ],
   "source": [
    "groupby_userid = train.groupby('TERMINALNO')\n",
    "print(groupby_userid['SPEED'].max().head(10))\n",
    "print(groupby_userid['SPEED'].min().head(10))\n",
    "print(groupby_userid['SPEED'].mean().head(10))\n",
    "print(groupby_userid['Y'].mean().head(10))"
   ]
  },
  {
   "cell_type": "markdown",
   "metadata": {},
   "source": [
    "## 方向处理\n",
    "计算每条路径方向的方差"
   ]
  },
  {
   "cell_type": "code",
   "execution_count": 4,
   "metadata": {},
   "outputs": [
    {
     "name": "stdout",
     "output_type": "stream",
     "text": [
      "TERMINALNO  TRIP_ID\n1           1           3486.700000\n            2              0.000000\n            3          14384.944444\n            4           4952.700000\n            5           4743.700000\n            6             88.700000\n            7           2686.093407\n            8          22732.800000\n            9           1753.000000\n            10         23254.333333\n            11           882.000000\n            12         21329.200000\n            13          1697.333333\n            14         11083.277778\n            15          1159.500000\n            16         22819.700000\n            17             8.000000\n            18            40.500000\n            19           196.700000\n            20         28723.066667\n            21            68.446970\n            22            59.563636\n            23            72.500000\n            24             3.000000\n            25             0.000000\n            26          8601.360000\n            27           315.743590\n            28             0.000000\n            29            24.333333\n            30          9667.072727\n                           ...     \n100         56         10893.512097\n            57             0.000000\n            58          1808.589474\n            59         15987.000000\n            60         15931.128571\n            61         15793.866667\n            62             4.500000\n            63             0.000000\n            64            50.000000\n            65             0.000000\n            66         11440.285714\n            67            24.000000\n            68             0.000000\n            69          2544.515152\n            70         17685.666667\n            71           189.866667\n            72          6810.690058\n            73             0.000000\n            74          2909.600000\n            75         15156.666667\n            76         18227.200000\n            77           957.111111\n            78             0.000000\n            79          3000.385886\n            80          7564.500000\n            81          3455.730994\n            82          8267.071225\n            83         26337.666667\n            84          3280.500000\n            85         15633.333333\nName: DIRECTION, Length: 6370, dtype: float64\n"
     ]
    }
   ],
   "source": [
    "groupby_userid_tripid = train.groupby(['TERMINALNO', 'TRIP_ID'])\n",
    "print(groupby_userid_tripid['DIRECTION'].var().fillna(0))"
   ]
  },
  {
   "cell_type": "markdown",
   "metadata": {},
   "source": [
    "计算方差的max, min, mean"
   ]
  },
  {
   "cell_type": "code",
   "execution_count": 5,
   "metadata": {},
   "outputs": [
    {
     "name": "stdout",
     "output_type": "stream",
     "text": [
      "TERMINALNO\n1      5859.356044\n2      4480.411525\n3     11222.736912\n4      5365.872172\n5      6896.961786\n6      6374.002252\n7      6576.589573\n8      7903.142782\n9      3035.523867\n10     7969.677782\nName: DIRECTION, dtype: float64\nTERMINALNO\n1       0.000000\n2       0.000000\n3       9.250000\n4       0.000000\n5       0.000000\n6       0.000000\n7       0.000000\n8       0.000000\n9     695.928571\n10      0.000000\nName: DIRECTION, dtype: float64\nTERMINALNO\n1     30583.142857\n2     26149.666667\n3     34105.410714\n4     64440.500000\n5     52812.500000\n6     28849.666667\n7     52164.500000\n8     33135.500000\n9     12340.700000\n10    35100.333333\nName: DIRECTION, dtype: float64\n"
     ]
    }
   ],
   "source": [
    "print(groupby_userid_tripid['DIRECTION'].var().fillna(0).groupby('TERMINALNO').mean().head(10))\n",
    "print(groupby_userid_tripid['DIRECTION'].var().fillna(0).groupby('TERMINALNO').min().head(10))\n",
    "print(groupby_userid_tripid['DIRECTION'].var().fillna(0).groupby('TERMINALNO').max().head(10))"
   ]
  },
  {
   "cell_type": "markdown",
   "metadata": {},
   "source": [
    "统计电话状态为2和3的个数"
   ]
  },
  {
   "cell_type": "code",
   "execution_count": 14,
   "metadata": {},
   "outputs": [
    {
     "name": "stdout",
     "output_type": "stream",
     "text": [
      "      TERMINALNO        TIME  TRIP_ID   LONGITUDE   LATITUDE  DIRECTION  \\\n1207           3  1471863360        6  112.978920  28.161814        216   \n2010           4  1482069900        1  116.852028  33.885815        298   \n2011           4  1482069840        1  116.857452  33.883640        281   \n2015           4  1482069600        1  116.902390  33.860420        332   \n4318           7  1480904160       20  108.367073  30.740995        140   \n\n          HEIGHT      SPEED  CALLSTATE    Y  \n1207   63.192932   0.000000          2  0.0  \n2010   17.766174   9.080000          2  0.0  \n2011   34.483704  26.870001          2  0.0  \n2015   25.543945  30.160000          2  0.0  \n4318  282.113525  10.880000          2  0.0  \n     TERMINALNO        TIME  TRIP_ID   LONGITUDE   LATITUDE  DIRECTION  \\\n58            1  1482488700       12  122.988625  41.100342        325   \n562           2  1479977280        6  113.341125  23.011570        159   \n570           2  1479959100        8  113.344711  22.987070         77   \n638           2  1479979080       17  113.330002  23.022478          6   \n642           2  1479977220       19  113.341125  23.011570        159   \n\n        HEIGHT      SPEED  CALLSTATE    Y  \n58   53.224976   8.300000          3  0.0  \n562  -2.795319   0.000000          3  0.0  \n570  35.526794  17.280001          3  0.0  \n638  -4.051025  11.280000          3  0.0  \n642  -9.709778   0.000000          3  0.0  \n"
     ]
    }
   ],
   "source": [
    "call2train = train[train['CALLSTATE'] == 2]\n",
    "call3train = train[train['CALLSTATE'] == 3]\n",
    "print(call2train.head())\n",
    "print(call3train.head())"
   ]
  },
  {
   "cell_type": "code",
   "execution_count": null,
   "metadata": {},
   "outputs": [],
   "source": []
  }
 ],
 "metadata": {
  "kernelspec": {
   "display_name": "Python 2",
   "language": "python",
   "name": "python2"
  },
  "language_info": {
   "codemirror_mode": {
    "name": "ipython",
    "version": 2
   },
   "file_extension": ".py",
   "mimetype": "text/x-python",
   "name": "python",
   "nbconvert_exporter": "python",
   "pygments_lexer": "ipython2",
   "version": "2.7.6"
  }
 },
 "nbformat": 4,
 "nbformat_minor": 0
}
