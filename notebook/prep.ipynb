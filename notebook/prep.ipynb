{
 "cells": [
  {
   "cell_type": "code",
   "execution_count": 1,
   "metadata": {
    "collapsed": true
   },
   "outputs": [],
   "source": [
    "import os\n",
    "import csv\n",
    "import pandas as pd\n",
    "import numpy as np \n",
    "import lightgbm as lgb \n",
    "import gc \n",
    "from sklearn.model_selection import train_test_split, cross_val_score\n",
    "\n",
    "if os.path.exists(\"./data/PINGAN-2018-train_demo.csv\"):\n",
    "    path_train = \"./data/PINGAN-2018-train_demo.csv\"\n",
    "    PREDICT = False \n",
    "else:\n",
    "    PREDICT = True \n",
    "    path_train = \"/data/dm/train.csv\"  # 训练文件\n",
    "    path_test = \"/data/dm/test.csv\"  # 测试文件\n",
    "    path_test_out = \"model/\"  # 预测结果输出路径为model/xx.csv,有且只能有一个文件并且是CSV格式。\n",
    "\n",
    "\n",
    "def read_csv():\n",
    "    \"\"\"\n",
    "    文件读取模块，头文件见columns.\n",
    "    :return: \n",
    "    \"\"\"\n",
    "    # for filename in os.listdir(path_train):\n",
    "    train = pd.read_csv(path_train)\n",
    "    test = pd.DataFrame()\n",
    "    if PREDICT:\n",
    "        test = pd.read_csv(path_test)\n",
    "    tempdata = pd.concat([train, test], 0)\n",
    "    nrow_train = train.shape[0]\n",
    "    tempdata.columns = [\"TERMINALNO\", \"TIME\", \"TRIP_ID\", \"LONGITUDE\", \"LATITUDE\", \"DIRECTION\", \"HEIGHT\", \n",
    "                        \"SPEED\", \"CALLSTATE\", \"Y\"]\n",
    "    return tempdata, nrow_train"
   ]
  },
  {
   "cell_type": "code",
   "execution_count": 2,
   "metadata": {},
   "outputs": [
    {
     "name": "stdout",
     "output_type": "stream",
     "text": [
      "   TERMINALNO        TIME  TRIP_ID   LONGITUDE   LATITUDE  DIRECTION  \\\n0           1  1476923580        1  122.985168  41.103741         12   \n1           1  1476923640        1  122.984398  41.104904         24   \n2           1  1476923700        1  122.986496  41.106388         74   \n3           1  1476923760        1  122.989769  41.106884        115   \n4           1  1476923820        1  122.991089  41.105442        151   \n\n      HEIGHT  SPEED  CALLSTATE    Y  \n0  39.402588   2.15          0  0.0  \n1  39.311157   4.11          0  0.0  \n2  34.178955   2.99          0  0.0  \n3  37.765381   7.59          0  0.0  \n4  36.049194   0.24          0  0.0  \n       TERMINALNO        TIME  TRIP_ID   LONGITUDE   LATITUDE  DIRECTION  \\\n69301         100  1476939540       85  120.333733  36.103889         29   \n69302         100  1476939480       85  120.333778  36.103771        353   \n69303         100  1476939420       85  120.334412  36.103283        317   \n69304         100  1476939360       85  120.340179  36.099434        294   \n69305         100  1476939300       85  120.348099  36.099365        223   \n\n         HEIGHT  SPEED  CALLSTATE    Y  \n69301  4.864410   0.00          4  0.0  \n69302  7.133728   0.00          4  0.0  \n69303  7.199524   2.55          4  0.0  \n69304  7.396851  11.67          4  0.0  \n69305  7.061462   9.83          4  0.0  \n69306\n"
     ]
    }
   ],
   "source": [
    "train ,nrow_train = read_csv()\n",
    "print(train.head())\n",
    "print(train.tail())\n",
    "print(nrow_train)"
   ]
  },
  {
   "cell_type": "code",
   "execution_count": 8,
   "metadata": {},
   "outputs": [
    {
     "name": "stdout",
     "output_type": "stream",
     "text": [
      "TERMINALNO\n1    32.779999\n2    36.119999\n3    25.440001\n4    33.310001\n5    53.480000\nName: SPEED, dtype: float64\nTERMINALNO\n1   -1.0\n2    0.0\n3    0.0\n4   -1.0\n5   -1.0\nName: SPEED, dtype: float64\nTERMINALNO\n1    17.489840\n2     9.287734\n3     7.987331\n4     6.312753\n5     7.695846\nName: SPEED, dtype: float64\n"
     ]
    }
   ],
   "source": [
    "groupby_userid = train.groupby('TERMINALNO')\n",
    "print(groupby_userid['SPEED'].max().head())\n",
    "print(groupby_userid['SPEED'].min().head())\n",
    "print(groupby_userid['SPEED'].mean().head())\n"
   ]
  },
  {
   "cell_type": "code",
   "execution_count": null,
   "metadata": {},
   "outputs": [],
   "source": []
  }
 ],
 "metadata": {
  "kernelspec": {
   "display_name": "Python 2",
   "language": "python",
   "name": "python2"
  },
  "language_info": {
   "codemirror_mode": {
    "name": "ipython",
    "version": 2
   },
   "file_extension": ".py",
   "mimetype": "text/x-python",
   "name": "python",
   "nbconvert_exporter": "python",
   "pygments_lexer": "ipython2",
   "version": "2.7.6"
  }
 },
 "nbformat": 4,
 "nbformat_minor": 0
}
